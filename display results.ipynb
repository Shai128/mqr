{
 "cells": [
  {
   "cell_type": "code",
   "execution_count": 1,
   "id": "7fb64d43",
   "metadata": {},
   "outputs": [],
   "source": [
    "import matplotlib\n",
    "from display_results_helper import read_all_real_data_results, read_all_syn_data_results, display_area_vs_y_dim,\\\n",
    "SCALE_BY_BEST_METHOD, VAEDQR, DQR, VQR,NaiveQR, display_mse_vs_r\n",
    "\n",
    "%load_ext autoreload\n",
    "%autoreload 2"
   ]
  },
  {
   "cell_type": "code",
   "execution_count": 2,
   "id": "f5ce4b2f",
   "metadata": {},
   "outputs": [],
   "source": [
    "is_conformalized = True\n",
    "seeds = 20\n",
    "tau = 0.1"
   ]
  },
  {
   "cell_type": "markdown",
   "id": "23497f5b",
   "metadata": {},
   "source": [
    "# Synthetic data"
   ]
  },
  {
   "cell_type": "code",
   "execution_count": 7,
   "id": "231ff55f",
   "metadata": {
    "scrolled": false
   },
   "outputs": [
    {
     "name": "stdout",
     "output_type": "stream",
     "text": [
      "no results found for parameters: {'dataset_name': 'cond_banana_k_dim_50', 'epoch': 0, 'transformation': 'cond_identity', 'method_name': 'vector', 'is_real': False, 'seed': 0, 'tau': 0.1}\n",
      "\n",
      "no results found for parameters: {'dataset_name': 'cond_banana_k_dim_100', 'epoch': 0, 'transformation': 'cond_identity', 'method_name': 'vector', 'is_real': False, 'seed': 0, 'tau': 0.1}\n",
      "\n",
      "no results found for parameters: {'dataset_name': 'nonlinear_cond_triple_banana_k_dim_10', 'epoch': 0, 'transformation': 'cond_identity', 'method_name': 'vector', 'is_real': False, 'seed': 0, 'tau': 0.1}\n",
      "\n",
      "no results found for parameters: {'dataset_name': 'nonlinear_cond_quad_banana_k_dim_1', 'epoch': 0, 'transformation': 'cond_identity', 'method_name': 'vector', 'is_real': False, 'seed': 0, 'tau': 0.1}\n",
      "\n",
      "no results found for parameters: {'dataset_name': 'nonlinear_cond_quad_banana_k_dim_10', 'epoch': 0, 'transformation': 'cond_identity', 'method_name': 'vector', 'is_real': False, 'seed': 0, 'tau': 0.1}\n",
      "\n",
      "Coverage\n"
     ]
    },
    {
     "data": {
      "text/html": [
       "<div>\n",
       "<style scoped>\n",
       "    .dataframe tbody tr th:only-of-type {\n",
       "        vertical-align: middle;\n",
       "    }\n",
       "\n",
       "    .dataframe tbody tr th {\n",
       "        vertical-align: top;\n",
       "    }\n",
       "\n",
       "    .dataframe thead th {\n",
       "        text-align: right;\n",
       "    }\n",
       "</style>\n",
       "<table border=\"1\" class=\"dataframe\">\n",
       "  <thead>\n",
       "    <tr style=\"text-align: right;\">\n",
       "      <th></th>\n",
       "      <th>d</th>\n",
       "      <th>p</th>\n",
       "      <th>VAE DQR r=3</th>\n",
       "      <th>naive</th>\n",
       "      <th>NPDQR</th>\n",
       "      <th>VQR</th>\n",
       "    </tr>\n",
       "    <tr>\n",
       "      <th>Setting</th>\n",
       "      <th></th>\n",
       "      <th></th>\n",
       "      <th></th>\n",
       "      <th></th>\n",
       "      <th></th>\n",
       "      <th></th>\n",
       "    </tr>\n",
       "  </thead>\n",
       "  <tbody>\n",
       "    <tr>\n",
       "      <th>linear</th>\n",
       "      <td>2</td>\n",
       "      <td>1</td>\n",
       "      <td>89.943</td>\n",
       "      <td>90.059</td>\n",
       "      <td>90.041</td>\n",
       "      <td>89.755</td>\n",
       "    </tr>\n",
       "    <tr>\n",
       "      <th>linear</th>\n",
       "      <td>2</td>\n",
       "      <td>10</td>\n",
       "      <td>89.926</td>\n",
       "      <td>89.789</td>\n",
       "      <td>90.131</td>\n",
       "      <td>90.065</td>\n",
       "    </tr>\n",
       "    <tr>\n",
       "      <th>linear</th>\n",
       "      <td>2</td>\n",
       "      <td>50</td>\n",
       "      <td>89.91</td>\n",
       "      <td>89.99</td>\n",
       "      <td>89.96</td>\n",
       "      <td>-</td>\n",
       "    </tr>\n",
       "    <tr>\n",
       "      <th>linear</th>\n",
       "      <td>2</td>\n",
       "      <td>100</td>\n",
       "      <td>89.963</td>\n",
       "      <td>89.993</td>\n",
       "      <td>90.003</td>\n",
       "      <td>-</td>\n",
       "    </tr>\n",
       "    <tr>\n",
       "      <th>nonlinear</th>\n",
       "      <td>2</td>\n",
       "      <td>1</td>\n",
       "      <td>90.126</td>\n",
       "      <td>90.078</td>\n",
       "      <td>90.165</td>\n",
       "      <td>90.13</td>\n",
       "    </tr>\n",
       "    <tr>\n",
       "      <th>nonlinear</th>\n",
       "      <td>3</td>\n",
       "      <td>1</td>\n",
       "      <td>90.165</td>\n",
       "      <td>90.114</td>\n",
       "      <td>90.021</td>\n",
       "      <td>90.156</td>\n",
       "    </tr>\n",
       "    <tr>\n",
       "      <th>nonlinear</th>\n",
       "      <td>3</td>\n",
       "      <td>10</td>\n",
       "      <td>89.991</td>\n",
       "      <td>89.881</td>\n",
       "      <td>90.051</td>\n",
       "      <td>-</td>\n",
       "    </tr>\n",
       "    <tr>\n",
       "      <th>nonlinear</th>\n",
       "      <td>4</td>\n",
       "      <td>1</td>\n",
       "      <td>90.031</td>\n",
       "      <td>90.175</td>\n",
       "      <td>89.955</td>\n",
       "      <td>-</td>\n",
       "    </tr>\n",
       "    <tr>\n",
       "      <th>nonlinear</th>\n",
       "      <td>4</td>\n",
       "      <td>10</td>\n",
       "      <td>89.792</td>\n",
       "      <td>89.841</td>\n",
       "      <td>89.956</td>\n",
       "      <td>-</td>\n",
       "    </tr>\n",
       "  </tbody>\n",
       "</table>\n",
       "</div>"
      ],
      "text/plain": [
       "           d    p VAE DQR r=3   naive   NPDQR     VQR\n",
       "Setting                                              \n",
       "linear     2    1      89.943  90.059  90.041  89.755\n",
       "linear     2   10      89.926  89.789  90.131  90.065\n",
       "linear     2   50       89.91   89.99   89.96       -\n",
       "linear     2  100      89.963  89.993  90.003       -\n",
       "nonlinear  2    1      90.126  90.078  90.165   90.13\n",
       "nonlinear  3    1      90.165  90.114  90.021  90.156\n",
       "nonlinear  3   10      89.991  89.881  90.051       -\n",
       "nonlinear  4    1      90.031  90.175  89.955       -\n",
       "nonlinear  4   10      89.792  89.841  89.956       -"
      ]
     },
     "metadata": {},
     "output_type": "display_data"
    },
    {
     "name": "stdout",
     "output_type": "stream",
     "text": [
      "Area\n"
     ]
    },
    {
     "data": {
      "text/html": [
       "<div>\n",
       "<style scoped>\n",
       "    .dataframe tbody tr th:only-of-type {\n",
       "        vertical-align: middle;\n",
       "    }\n",
       "\n",
       "    .dataframe tbody tr th {\n",
       "        vertical-align: top;\n",
       "    }\n",
       "\n",
       "    .dataframe thead th {\n",
       "        text-align: right;\n",
       "    }\n",
       "</style>\n",
       "<table border=\"1\" class=\"dataframe\">\n",
       "  <thead>\n",
       "    <tr style=\"text-align: right;\">\n",
       "      <th></th>\n",
       "      <th>d</th>\n",
       "      <th>p</th>\n",
       "      <th>VAE DQR r=3</th>\n",
       "      <th>naive</th>\n",
       "      <th>NPDQR</th>\n",
       "      <th>VQR</th>\n",
       "    </tr>\n",
       "    <tr>\n",
       "      <th>Setting</th>\n",
       "      <th></th>\n",
       "      <th></th>\n",
       "      <th></th>\n",
       "      <th></th>\n",
       "      <th></th>\n",
       "      <th></th>\n",
       "    </tr>\n",
       "  </thead>\n",
       "  <tbody>\n",
       "    <tr>\n",
       "      <th>linear</th>\n",
       "      <td>2</td>\n",
       "      <td>1</td>\n",
       "      <td>1</td>\n",
       "      <td>3.88</td>\n",
       "      <td>3.25</td>\n",
       "      <td>1.476</td>\n",
       "    </tr>\n",
       "    <tr>\n",
       "      <th>linear</th>\n",
       "      <td>2</td>\n",
       "      <td>10</td>\n",
       "      <td>1</td>\n",
       "      <td>4.372</td>\n",
       "      <td>4.222</td>\n",
       "      <td>1.264</td>\n",
       "    </tr>\n",
       "    <tr>\n",
       "      <th>linear</th>\n",
       "      <td>2</td>\n",
       "      <td>50</td>\n",
       "      <td>1</td>\n",
       "      <td>4.573</td>\n",
       "      <td>3.926</td>\n",
       "      <td>-</td>\n",
       "    </tr>\n",
       "    <tr>\n",
       "      <th>linear</th>\n",
       "      <td>2</td>\n",
       "      <td>100</td>\n",
       "      <td>1</td>\n",
       "      <td>3.922</td>\n",
       "      <td>3.406</td>\n",
       "      <td>-</td>\n",
       "    </tr>\n",
       "    <tr>\n",
       "      <th>nonlinear</th>\n",
       "      <td>2</td>\n",
       "      <td>1</td>\n",
       "      <td>1</td>\n",
       "      <td>3.369</td>\n",
       "      <td>2.934</td>\n",
       "      <td>2.73</td>\n",
       "    </tr>\n",
       "    <tr>\n",
       "      <th>nonlinear</th>\n",
       "      <td>3</td>\n",
       "      <td>1</td>\n",
       "      <td>1</td>\n",
       "      <td>24.611</td>\n",
       "      <td>21.396</td>\n",
       "      <td>8.161</td>\n",
       "    </tr>\n",
       "    <tr>\n",
       "      <th>nonlinear</th>\n",
       "      <td>3</td>\n",
       "      <td>10</td>\n",
       "      <td>1</td>\n",
       "      <td>35.21</td>\n",
       "      <td>27.897</td>\n",
       "      <td>-</td>\n",
       "    </tr>\n",
       "    <tr>\n",
       "      <th>nonlinear</th>\n",
       "      <td>4</td>\n",
       "      <td>1</td>\n",
       "      <td>1</td>\n",
       "      <td>72.037</td>\n",
       "      <td>217.172</td>\n",
       "      <td>-</td>\n",
       "    </tr>\n",
       "    <tr>\n",
       "      <th>nonlinear</th>\n",
       "      <td>4</td>\n",
       "      <td>10</td>\n",
       "      <td>1</td>\n",
       "      <td>183.672</td>\n",
       "      <td>440.817</td>\n",
       "      <td>-</td>\n",
       "    </tr>\n",
       "  </tbody>\n",
       "</table>\n",
       "</div>"
      ],
      "text/plain": [
       "           d    p VAE DQR r=3    naive    NPDQR    VQR\n",
       "Setting                                               \n",
       "linear     2    1           1     3.88     3.25  1.476\n",
       "linear     2   10           1    4.372    4.222  1.264\n",
       "linear     2   50           1    4.573    3.926      -\n",
       "linear     2  100           1    3.922    3.406      -\n",
       "nonlinear  2    1           1    3.369    2.934   2.73\n",
       "nonlinear  3    1           1   24.611   21.396  8.161\n",
       "nonlinear  3   10           1    35.21   27.897      -\n",
       "nonlinear  4    1           1   72.037  217.172      -\n",
       "nonlinear  4   10           1  183.672  440.817      -"
      ]
     },
     "metadata": {},
     "output_type": "display_data"
    }
   ],
   "source": [
    "# read_all_syn_data_results(tau,seeds=20, is_conformalized=True, scale_area=False)\n",
    "\n",
    "\n",
    "read_all_syn_data_results(tau,seeds=20, is_conformalized=True, scale_area=SCALE_BY_BEST_METHOD, \n",
    "                         methods=[VAEDQR(3), NaiveQR(), DQR(), VQR()])#datasets=['nonlinear_cond_banana_k_dim_1', 'nonlinear_cond_triple_banana_k_dim_1'])"
   ]
  },
  {
   "cell_type": "markdown",
   "id": "f38f8363",
   "metadata": {},
   "source": [
    "# Area of the quantile region vs the dimension of the response"
   ]
  },
  {
   "cell_type": "code",
   "execution_count": 3,
   "id": "8a607dee",
   "metadata": {
    "scrolled": true
   },
   "outputs": [
    {
     "data": {
      "image/png": "[encoded data removed]",
      "text/plain": [
       "<Figure size 432x288 with 1 Axes>"
      ]
     },
     "metadata": {
      "needs_background": "light"
     },
     "output_type": "display_data"
    }
   ],
   "source": [
    "matplotlib.rc('font', **{'size': 15})\n",
    "display_area_vs_y_dim(tau, seeds=20, is_conformalized=True, y_dims=[2,3,4], p=10, \n",
    "                      linear=False, scale_area=SCALE_BY_BEST_METHOD)"
   ]
  },
  {
   "cell_type": "markdown",
   "id": "6c91e05d",
   "metadata": {},
   "source": [
    "# Real data"
   ]
  },
  {
   "cell_type": "code",
   "execution_count": 9,
   "id": "a9edab6f",
   "metadata": {
    "scrolled": false
   },
   "outputs": [
    {
     "name": "stdout",
     "output_type": "stream",
     "text": [
      "Coverage\n"
     ]
    },
    {
     "data": {
      "text/html": [
       "<div>\n",
       "<style scoped>\n",
       "    .dataframe tbody tr th:only-of-type {\n",
       "        vertical-align: middle;\n",
       "    }\n",
       "\n",
       "    .dataframe tbody tr th {\n",
       "        vertical-align: top;\n",
       "    }\n",
       "\n",
       "    .dataframe thead th {\n",
       "        text-align: right;\n",
       "    }\n",
       "</style>\n",
       "<table border=\"1\" class=\"dataframe\">\n",
       "  <thead>\n",
       "    <tr style=\"text-align: right;\">\n",
       "      <th></th>\n",
       "      <th>VAE DQR r=3</th>\n",
       "      <th>naive</th>\n",
       "      <th>NPDQR</th>\n",
       "    </tr>\n",
       "  </thead>\n",
       "  <tbody>\n",
       "    <tr>\n",
       "      <th>bio</th>\n",
       "      <td>90.0</td>\n",
       "      <td>90.002</td>\n",
       "      <td>89.892</td>\n",
       "    </tr>\n",
       "    <tr>\n",
       "      <th>house</th>\n",
       "      <td>90.157</td>\n",
       "      <td>89.978</td>\n",
       "      <td>89.876</td>\n",
       "    </tr>\n",
       "    <tr>\n",
       "      <th>blog_data</th>\n",
       "      <td>90.145</td>\n",
       "      <td>90.064</td>\n",
       "      <td>90.016</td>\n",
       "    </tr>\n",
       "    <tr>\n",
       "      <th>meps_19</th>\n",
       "      <td>90.144</td>\n",
       "      <td>89.892</td>\n",
       "      <td>89.865</td>\n",
       "    </tr>\n",
       "    <tr>\n",
       "      <th>meps_20</th>\n",
       "      <td>89.997</td>\n",
       "      <td>90.0</td>\n",
       "      <td>89.913</td>\n",
       "    </tr>\n",
       "    <tr>\n",
       "      <th>meps_21</th>\n",
       "      <td>89.899</td>\n",
       "      <td>89.879</td>\n",
       "      <td>89.676</td>\n",
       "    </tr>\n",
       "  </tbody>\n",
       "</table>\n",
       "</div>"
      ],
      "text/plain": [
       "          VAE DQR r=3   naive   NPDQR\n",
       "bio              90.0  90.002  89.892\n",
       "house          90.157  89.978  89.876\n",
       "blog_data      90.145  90.064  90.016\n",
       "meps_19        90.144  89.892  89.865\n",
       "meps_20        89.997    90.0  89.913\n",
       "meps_21        89.899  89.879  89.676"
      ]
     },
     "metadata": {},
     "output_type": "display_data"
    },
    {
     "name": "stdout",
     "output_type": "stream",
     "text": [
      "Area\n"
     ]
    },
    {
     "data": {
      "text/html": [
       "<div>\n",
       "<style scoped>\n",
       "    .dataframe tbody tr th:only-of-type {\n",
       "        vertical-align: middle;\n",
       "    }\n",
       "\n",
       "    .dataframe tbody tr th {\n",
       "        vertical-align: top;\n",
       "    }\n",
       "\n",
       "    .dataframe thead th {\n",
       "        text-align: right;\n",
       "    }\n",
       "</style>\n",
       "<table border=\"1\" class=\"dataframe\">\n",
       "  <thead>\n",
       "    <tr style=\"text-align: right;\">\n",
       "      <th></th>\n",
       "      <th>VAE DQR r=3</th>\n",
       "      <th>naive</th>\n",
       "      <th>NPDQR</th>\n",
       "    </tr>\n",
       "  </thead>\n",
       "  <tbody>\n",
       "    <tr>\n",
       "      <th>bio</th>\n",
       "      <td>1</td>\n",
       "      <td>1.223</td>\n",
       "      <td>1.222</td>\n",
       "    </tr>\n",
       "    <tr>\n",
       "      <th>house</th>\n",
       "      <td>1</td>\n",
       "      <td>1.168</td>\n",
       "      <td>1.149</td>\n",
       "    </tr>\n",
       "    <tr>\n",
       "      <th>blog_data</th>\n",
       "      <td>1</td>\n",
       "      <td>1.551</td>\n",
       "      <td>1.821</td>\n",
       "    </tr>\n",
       "    <tr>\n",
       "      <th>meps_19</th>\n",
       "      <td>1</td>\n",
       "      <td>2.215</td>\n",
       "      <td>2.169</td>\n",
       "    </tr>\n",
       "    <tr>\n",
       "      <th>meps_20</th>\n",
       "      <td>1</td>\n",
       "      <td>2.27</td>\n",
       "      <td>2.209</td>\n",
       "    </tr>\n",
       "    <tr>\n",
       "      <th>meps_21</th>\n",
       "      <td>1</td>\n",
       "      <td>2.191</td>\n",
       "      <td>2.212</td>\n",
       "    </tr>\n",
       "  </tbody>\n",
       "</table>\n",
       "</div>"
      ],
      "text/plain": [
       "          VAE DQR r=3  naive  NPDQR\n",
       "bio                 1  1.223  1.222\n",
       "house               1  1.168  1.149\n",
       "blog_data           1  1.551  1.821\n",
       "meps_19             1  2.215  2.169\n",
       "meps_20             1   2.27  2.209\n",
       "meps_21             1  2.191  2.212"
      ]
     },
     "metadata": {},
     "output_type": "display_data"
    }
   ],
   "source": [
    "ALL_DATASETS = ['bio', 'house', 'blog_data', 'meps_19', 'meps_20', 'meps_21']\n",
    "\n",
    "datasets = ALL_DATASETS\n",
    "# datasets= ['reduced_'+data for data in ALL_DATASETS]\n",
    "\n",
    "read_all_real_data_results(tau=0.1,seeds=20, is_conformalized=True, metric_to_display='mean', \n",
    "                           datasets=datasets, methods=[VAEDQR(3), NaiveQR(), DQR(), VQR()])"
   ]
  },
  {
   "cell_type": "markdown",
   "id": "331ccf4c",
   "metadata": {},
   "source": [
    "## Real data VAE losses"
   ]
  },
  {
   "cell_type": "code",
   "execution_count": 11,
   "id": "0141681f",
   "metadata": {
    "scrolled": false
   },
   "outputs": [
    {
     "name": "stdout",
     "output_type": "stream",
     "text": [
      "MSE loss\n"
     ]
    },
    {
     "data": {
      "text/html": [
       "<div>\n",
       "<style scoped>\n",
       "    .dataframe tbody tr th:only-of-type {\n",
       "        vertical-align: middle;\n",
       "    }\n",
       "\n",
       "    .dataframe tbody tr th {\n",
       "        vertical-align: top;\n",
       "    }\n",
       "\n",
       "    .dataframe thead th {\n",
       "        text-align: right;\n",
       "    }\n",
       "</style>\n",
       "<table border=\"1\" class=\"dataframe\">\n",
       "  <thead>\n",
       "    <tr style=\"text-align: right;\">\n",
       "      <th></th>\n",
       "      <th>VAE DQR r=1</th>\n",
       "      <th>VAE DQR r=2</th>\n",
       "      <th>VAE DQR r=3</th>\n",
       "    </tr>\n",
       "  </thead>\n",
       "  <tbody>\n",
       "    <tr>\n",
       "      <th>bio</th>\n",
       "      <td>0.034</td>\n",
       "      <td>0.021</td>\n",
       "      <td>0.021</td>\n",
       "    </tr>\n",
       "    <tr>\n",
       "      <th>house</th>\n",
       "      <td>0.036</td>\n",
       "      <td>0.031</td>\n",
       "      <td>0.026</td>\n",
       "    </tr>\n",
       "    <tr>\n",
       "      <th>meps_20</th>\n",
       "      <td>0.104</td>\n",
       "      <td>0.025</td>\n",
       "      <td>0.024</td>\n",
       "    </tr>\n",
       "  </tbody>\n",
       "</table>\n",
       "</div>"
      ],
      "text/plain": [
       "        VAE DQR r=1 VAE DQR r=2 VAE DQR r=3\n",
       "bio           0.034       0.021       0.021\n",
       "house         0.036       0.031       0.026\n",
       "meps_20       0.104       0.025       0.024"
      ]
     },
     "metadata": {},
     "output_type": "display_data"
    },
    {
     "name": "stdout",
     "output_type": "stream",
     "text": [
      "KL Loss\n"
     ]
    },
    {
     "data": {
      "text/html": [
       "<div>\n",
       "<style scoped>\n",
       "    .dataframe tbody tr th:only-of-type {\n",
       "        vertical-align: middle;\n",
       "    }\n",
       "\n",
       "    .dataframe tbody tr th {\n",
       "        vertical-align: top;\n",
       "    }\n",
       "\n",
       "    .dataframe thead th {\n",
       "        text-align: right;\n",
       "    }\n",
       "</style>\n",
       "<table border=\"1\" class=\"dataframe\">\n",
       "  <thead>\n",
       "    <tr style=\"text-align: right;\">\n",
       "      <th></th>\n",
       "      <th>VAE DQR r=1</th>\n",
       "      <th>VAE DQR r=2</th>\n",
       "      <th>VAE DQR r=3</th>\n",
       "    </tr>\n",
       "  </thead>\n",
       "  <tbody>\n",
       "    <tr>\n",
       "      <th>bio</th>\n",
       "      <td>0.02</td>\n",
       "      <td>0.024</td>\n",
       "      <td>0.024</td>\n",
       "    </tr>\n",
       "    <tr>\n",
       "      <th>house</th>\n",
       "      <td>0.023</td>\n",
       "      <td>0.024</td>\n",
       "      <td>0.026</td>\n",
       "    </tr>\n",
       "    <tr>\n",
       "      <th>meps_20</th>\n",
       "      <td>0.014</td>\n",
       "      <td>0.018</td>\n",
       "      <td>0.018</td>\n",
       "    </tr>\n",
       "  </tbody>\n",
       "</table>\n",
       "</div>"
      ],
      "text/plain": [
       "        VAE DQR r=1 VAE DQR r=2 VAE DQR r=3\n",
       "bio            0.02       0.024       0.024\n",
       "house         0.023       0.024       0.026\n",
       "meps_20       0.014       0.018       0.018"
      ]
     },
     "metadata": {},
     "output_type": "display_data"
    }
   ],
   "source": [
    "read_all_real_data_results(tau=0.1,seeds=20, is_conformalized=True, metric_to_display='mean', \n",
    "                           datasets=['bio', 'house', 'meps_20'], methods=[VAEDQR(r=r) for r in [1,2,3]], result_to_read='vae')"
   ]
  },
  {
   "cell_type": "code",
   "execution_count": 25,
   "id": "a2e41fdf",
   "metadata": {},
   "outputs": [
    {
     "data": {
      "image/png": "[encoded data removed]",
      "text/plain": [
       "<Figure size 432x288 with 1 Axes>"
      ]
     },
     "metadata": {
      "needs_background": "light"
     },
     "output_type": "display_data"
    }
   ],
   "source": [
    "display_mse_vs_r(tau=0.1, seeds=20, is_conformalized=True, metric_to_display='mean',\n",
    "                     datasets=['bio', 'house', 'meps_20'], r_values=[1, 2, 3, 4])"
   ]
  },
  {
   "cell_type": "markdown",
   "id": "638b22d2",
   "metadata": {
    "pycharm": {
     "name": "#%% md\n"
    }
   },
   "source": []
  }
 ],
 "metadata": {
  "kernelspec": {
   "display_name": "Python 3",
   "language": "python",
   "name": "python3"
  },
  "language_info": {
   "codemirror_mode": {
    "name": "ipython",
    "version": 3
   },
   "file_extension": ".py",
   "mimetype": "text/x-python",
   "name": "python",
   "nbconvert_exporter": "python",
   "pygments_lexer": "ipython3",
   "version": "3.8.6"
  }
 },
 "nbformat": 4,
 "nbformat_minor": 5
}