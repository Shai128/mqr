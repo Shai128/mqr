{
 "cells": [
  {
   "cell_type": "code",
   "execution_count": null,
   "id": "c8b59a74",
   "metadata": {},
   "outputs": [],
   "source": [
    "import numpy as np\n",
    "import torch as torch\n",
    "from helper import set_seeds\n",
    "from tqdm import tqdm\n",
    "from utils.q_model_ens import MultivariateQuantileModel\n",
    "from torch.utils.data import DataLoader, TensorDataset\n",
    "from losses import multivariate_qr_loss\n",
    "from helper import generate_directions\n",
    "from plot_helper import evaluate_conditional_performance\n",
    "import argparse\n",
    "import os\n",
    "import warnings\n",
    "from datasets import datasets\n",
    "from transformations import CVAETransform, ConditionalIdentityTransform\n",
    "from directories_names import get_cvae_model_save_name, get_save_final_figure_results_dir, get_model_summary_save_dir, \\\n",
    "    get_save_final_results_dir\n",
    "from main import *\n",
    "import ast\n",
    "from argparse import Namespace\n",
    "import matplotlib\n",
    "from sys import platform\n",
    "\n",
    "if platform not in ['win32', 'darwin']:\n",
    "    matplotlib.use('Agg')\n",
    "\n",
    "warnings.filterwarnings(\"ignore\")\n",
    "\n",
    "\n",
    "\n",
    "%load_ext autoreload\n",
    "%autoreload 2\n",
    "\n",
    "device_name = 'cuda:0' if torch.cuda.is_available() else 'cpu'\n",
    "device = torch.device(device_name)\n"
   ]
  },
  {
   "cell_type": "markdown",
   "id": "c126f62d",
   "metadata": {},
   "source": [
    "# Parameters setting"
   ]
  },
  {
   "cell_type": "code",
   "execution_count": null,
   "id": "2661146a",
   "metadata": {},
   "outputs": [],
   "source": [
    "seed = 0\n",
    "args =  Namespace(\n",
    "    seed=seed,\n",
    "    tau=0.1,\n",
    "    dataset_name = 'nonlinear_cond_banana_k_dim_1',\n",
    "    ds_type='SYN',\n",
    "    num_ep=10000,\n",
    "    hs= \"[64, 64, 64]\",\n",
    "    dropout= 0.,\n",
    "    lr= 1e-3,\n",
    "    wd= 0,\n",
    "    bs= 256,\n",
    "    wait= 100,\n",
    "    test_ratio= 0.2,\n",
    "    calibration_ratio=0.4,\n",
    "    device=device,\n",
    "    num_ens=1,\n",
    "    gpu=1,\n",
    "    boot=0,\n",
    "    num_u = 32,\n",
    "    transform='CVAE',\n",
    "    vae_loss = 'KL',\n",
    "    vae_z_dim=3,\n",
    "    vae_mode='CVAE',\n",
    "    suppress_plots=0,\n",
    ")\n",
    "\n",
    "args = parse_args_utils(args)\n",
    "\n",
    "seed = args.seed\n",
    "set_seeds(seed)"
   ]
  },
  {
   "cell_type": "markdown",
   "id": "50b4eb55",
   "metadata": {},
   "source": [
    "# Load dataset"
   ]
  },
  {
   "cell_type": "code",
   "execution_count": null,
   "id": "d7e2c226",
   "metadata": {},
   "outputs": [],
   "source": [
    "dataset_name = args.dataset_name\n",
    "print(\"dataset_name: \", dataset_name, \"transformation: \", args.transform,\n",
    "      f\"tau: {args.tau}, conformalization tau: {args.conformalization_tau}, seed={args.seed}\")\n",
    "\n",
    "test_ratio = args.test_ratio\n",
    "calibration_ratio = args.calibration_ratio\n",
    "val_ratio = 0.2\n",
    "\n",
    "is_real = 'real' in args.ds_type.lower()\n",
    "scale = is_real\n",
    "data = datasets.get_split_data(dataset_name, is_real, device, test_ratio, val_ratio, calibration_ratio, seed, scale)\n",
    "x_train, x_val, y_train, y_val, x_test, y_te, = data['x_train'], data['x_val'], \\\n",
    "                                                data['y_train'], data['y_val'], \\\n",
    "                                                data['x_test'], data['y_te']\n",
    "scale_x = data['scale_x']\n",
    "scale_y = data['scale_y']\n",
    "x_dim = x_train.shape[1]\n",
    "\n",
    "if calibration_ratio > 0:\n",
    "    x_cal, y_cal = data['x_cal'], data['y_cal']\n"
   ]
  },
  {
   "cell_type": "markdown",
   "id": "d416e4d2",
   "metadata": {},
   "source": [
    "# Learn the transformation"
   ]
  },
  {
   "cell_type": "markdown",
   "id": "8ee8719b",
   "metadata": {},
   "source": [
    "## Run train_vae.py to learn a transformation (CVAE) between $\\mathcal{Y}$ and $\\mathcal{Z}$."
   ]
  },
  {
   "cell_type": "markdown",
   "id": "35827ef6",
   "metadata": {},
   "source": [
    "# Transformation"
   ]
  },
  {
   "cell_type": "code",
   "execution_count": null,
   "id": "eef48cbb",
   "metadata": {},
   "outputs": [],
   "source": [
    "if args.transform == 'identity':\n",
    "    transform = ConditionalIdentityTransform()\n",
    "elif args.transform == \"VAE\" or args.transform == \"CVAE\":\n",
    "    transform = CVAETransform(\n",
    "        get_cvae_model_save_name(dataset_name, seed, args.vae_loss, args.vae_z_dim, args.vae_mode), device=device)\n",
    "else:\n",
    "    print(\"transform must be one of 'identity', 'VAE', 'CVAE\")\n",
    "    assert False\n",
    "\n",
    "untransformed_y_train = y_train\n",
    "y_train = transform.cond_transform(y_train, x_train)\n",
    "y_val = transform.cond_transform(y_val, x_val)\n"
   ]
  },
  {
   "cell_type": "markdown",
   "id": "95d2dde1",
   "metadata": {},
   "source": [
    "# Train the model"
   ]
  },
  {
   "cell_type": "code",
   "execution_count": null,
   "id": "f3ff9568",
   "metadata": {},
   "outputs": [],
   "source": [
    "dim_y = y_train.shape[1]\n",
    "y_grid_size = 3e5 if untransformed_y_train.shape[1] >= 3 else 3e3\n",
    "model_ens = MultivariateQuantileModel(input_size=x_dim, y_size=dim_y,\n",
    "                                      hidden_dimensions=args.hs, dropout=args.dropout,\n",
    "                                      lr=args.lr, wd=args.wd, num_ens=args.num_ens, device=args.device, y_grid_size=y_grid_size)\n",
    "\n",
    "# Data loader\n",
    "loader = DataLoader(TensorDataset(x_train, y_train),\n",
    "                    shuffle=True,\n",
    "                    batch_size=args.bs)\n",
    "\n",
    "# Loss function\n",
    "loss_fn = multivariate_qr_loss\n",
    "batch_loss = True\n",
    "assert len(args.tau_list) == 1\n",
    "eval_losses = []\n",
    "train_losses = []\n",
    "for ep in tqdm(range(args.num_ep)):\n",
    "\n",
    "    if model_ens.done_training:\n",
    "        break\n",
    "\n",
    "    # Take train step\n",
    "    ep_train_loss = []  # list of losses from each batch, for one epoch\n",
    "    for batch in loader:\n",
    "        u_list, gamma = generate_directions(dim_y, args.num_u, args.tau_list[0])\n",
    "        args.gamma = gamma\n",
    "\n",
    "        (xi, yi) = batch\n",
    "        loss = model_ens.loss(loss_fn, xi, yi, u_list,\n",
    "                              batch_q=batch_loss,\n",
    "                              take_step=True, args=args)\n",
    "\n",
    "        ep_train_loss.append(loss)\n",
    "\n",
    "    ep_tr_loss = np.nanmean(np.stack(ep_train_loss, axis=0), axis=0).item()\n",
    "    train_losses += [ep_tr_loss]\n",
    "\n",
    "    # Validation loss\n",
    "    y_val = y_val.to(args.device)\n",
    "    u_list, gamma = generate_directions(dim_y, args.num_u, args.tau_list[0])\n",
    "    args.gamma = gamma\n",
    "\n",
    "    ep_va_loss = model_ens.update_va_loss(\n",
    "        loss_fn, x_val, y_val, u_list,\n",
    "        batch_q=batch_loss, curr_ep=ep, num_wait=args.wait,\n",
    "        args=args)\n",
    "    eval_losses += [ep_va_loss.item()]\n",
    "\n",
    "\n",
    "params = {'dataset_name': dataset_name, 'transformation': transform, 'epoch': model_ens.best_va_ep[0],\n",
    "          'is_real': is_real, 'seed': seed, 'tau': args.conformalization_tau,\n",
    "          'vae_loss': args.vae_loss, 'vae_z_dim': args.vae_z_dim,\n",
    "          'dropout': args.dropout, 'hs': str(args.hs), 'vae_mode': args.vae_mode}\n",
    "base_save_dir = get_save_final_figure_results_dir(**params)\n",
    "base_results_save_dir = get_save_final_results_dir(**params)\n",
    "summary_base_save_dir = get_model_summary_save_dir(**params)\n"
   ]
  },
  {
   "cell_type": "markdown",
   "id": "067b8782",
   "metadata": {},
   "source": [
    "# Evaluate the model"
   ]
  },
  {
   "cell_type": "code",
   "execution_count": null,
   "id": "576836ee",
   "metadata": {
    "scrolled": true
   },
   "outputs": [],
   "source": [
    "evaluate_conditional_performance(model_ens, x_train, untransformed_y_train, y_train, x_test, y_te,\n",
    "                                 base_save_dir, transform, is_conformalized=False, args=args,\n",
    "                                 dataset_name=dataset_name, scale_x=scale_x, scale_y=scale_y,\n",
    "                                 cache=None,\n",
    "                                 summary_base_save_dir=summary_base_save_dir,\n",
    "                                 base_results_save_dir=base_results_save_dir, is_real=is_real)\n"
   ]
  },
  {
   "cell_type": "markdown",
   "id": "19eccd3b",
   "metadata": {},
   "source": [
    "# Conformalize marginal coverage"
   ]
  },
  {
   "cell_type": "code",
   "execution_count": null,
   "id": "6a4b42b2",
   "metadata": {},
   "outputs": [],
   "source": [
    "assert calibration_ratio > 0\n",
    "model_ens.conformalize(x_cal, y_cal, untransformed_y_train, y_train, transform, args.conformalization_tau,\n",
    "                       args.tau)"
   ]
  },
  {
   "cell_type": "markdown",
   "id": "830b7ff3",
   "metadata": {},
   "source": [
    "# Evaluate conformalized model"
   ]
  },
  {
   "cell_type": "code",
   "execution_count": null,
   "id": "7adf30cb",
   "metadata": {
    "scrolled": true
   },
   "outputs": [],
   "source": [
    "evaluate_conditional_performance(model_ens, x_train, untransformed_y_train, y_train, x_test, y_te,\n",
    "                                 base_save_dir, transform, is_conformalized=True, args=args,\n",
    "                                 dataset_name=dataset_name, scale_x=scale_x, scale_y=scale_y, cache=None,\n",
    "                                 summary_base_save_dir=summary_base_save_dir,\n",
    "                                 base_results_save_dir=base_results_save_dir, is_real=is_real)\n"
   ]
  },
  {
   "cell_type": "code",
   "execution_count": null,
   "id": "45ed458e",
   "metadata": {},
   "outputs": [],
   "source": []
  }
 ],
 "metadata": {
  "kernelspec": {
   "display_name": "Python 3",
   "language": "python",
   "name": "python3"
  },
  "language_info": {
   "codemirror_mode": {
    "name": "ipython",
    "version": 3
   },
   "file_extension": ".py",
   "mimetype": "text/x-python",
   "name": "python",
   "nbconvert_exporter": "python",
   "pygments_lexer": "ipython3",
   "version": "3.8.6"
  }
 },
 "nbformat": 4,
 "nbformat_minor": 5
}
